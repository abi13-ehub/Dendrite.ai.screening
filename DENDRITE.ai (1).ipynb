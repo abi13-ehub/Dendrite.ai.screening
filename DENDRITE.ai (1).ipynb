{
 "cells": [
  {
   "cell_type": "code",
   "execution_count": 3,
   "id": "992620cd",
   "metadata": {},
   "outputs": [],
   "source": [
    "import json\n",
    "import pandas as pd\n",
    "import numpy as np\n",
    "import re\n",
    "from sklearn.metrics import mean_squared_error,mean_absolute_error\n",
    "from sklearn.linear_model import LinearRegression"
   ]
  },
  {
   "cell_type": "code",
   "execution_count": 4,
   "id": "af53a1b5",
   "metadata": {},
   "outputs": [],
   "source": [
    "with open('file.json') as f:\n",
    "    data = json.load(f)"
   ]
  },
  {
   "cell_type": "code",
   "execution_count": 5,
   "id": "04b9d83a",
   "metadata": {},
   "outputs": [],
   "source": [
    "target = data['design_state_data']['target']\n",
    "models = data['design_state_data']['algorithms']"
   ]
  },
  {
   "cell_type": "code",
   "execution_count": 6,
   "id": "127c3144",
   "metadata": {},
   "outputs": [
    {
     "data": {
      "text/plain": [
       "{'prediction_type': 'Regression',\n",
       " 'target': 'petal_width',\n",
       " 'type': 'regression',\n",
       " 'partitioning': True}"
      ]
     },
     "execution_count": 6,
     "metadata": {},
     "output_type": "execute_result"
    }
   ],
   "source": [
    "target"
   ]
  },
  {
   "cell_type": "code",
   "execution_count": 7,
   "id": "8c9d05a3",
   "metadata": {},
   "outputs": [
    {
     "data": {
      "text/plain": [
       "{'RandomForestClassifier': {'model_name': 'Random Forest Classifier',\n",
       "  'is_selected': False,\n",
       "  'min_trees': 10,\n",
       "  'max_trees': 30,\n",
       "  'feature_sampling_statergy': 'Default',\n",
       "  'min_depth': 20,\n",
       "  'max_depth': 30,\n",
       "  'min_samples_per_leaf_min_value': 5,\n",
       "  'min_samples_per_leaf_max_value': 50,\n",
       "  'parallelism': 0},\n",
       " 'RandomForestRegressor': {'model_name': 'Random Forest Regressor',\n",
       "  'is_selected': True,\n",
       "  'min_trees': 10,\n",
       "  'max_trees': 20,\n",
       "  'feature_sampling_statergy': 'Default',\n",
       "  'min_depth': 20,\n",
       "  'max_depth': 25,\n",
       "  'min_samples_per_leaf_min_value': 5,\n",
       "  'min_samples_per_leaf_max_value': 10,\n",
       "  'parallelism': 0},\n",
       " 'GBTClassifier': {'model_name': 'Gradient Boosted Trees',\n",
       "  'is_selected': False,\n",
       "  'num_of_BoostingStages': [67, 89],\n",
       "  'feature_sampling_statergy': 'Fixed number',\n",
       "  'learningRate': [],\n",
       "  'use_deviance': True,\n",
       "  'use_exponential': False,\n",
       "  'fixed_number': 22,\n",
       "  'min_subsample': 1,\n",
       "  'max_subsample': 2,\n",
       "  'min_stepsize': 0.1,\n",
       "  'max_stepsize': 0.5,\n",
       "  'min_iter': 20,\n",
       "  'max_iter': 40,\n",
       "  'min_depth': 5,\n",
       "  'max_depth': 7},\n",
       " 'GBTRegressor': {'model_name': 'Gradient Boosted Trees',\n",
       "  'is_selected': False,\n",
       "  'num_of_BoostingStages': [67, 89],\n",
       "  'feature_sampling_statergy': 'Fixed number',\n",
       "  'use_deviance': True,\n",
       "  'use_exponential': False,\n",
       "  'fixed_number': 22,\n",
       "  'min_subsample': 1,\n",
       "  'max_subsample': 2,\n",
       "  'min_stepsize': 0.1,\n",
       "  'max_stepsize': 0.5,\n",
       "  'min_iter': 20,\n",
       "  'max_iter': 40,\n",
       "  'min_depth': 5,\n",
       "  'max_depth': 7},\n",
       " 'LinearRegression': {'model_name': 'LinearRegression',\n",
       "  'is_selected': False,\n",
       "  'parallelism': 2,\n",
       "  'min_iter': 30,\n",
       "  'max_iter': 50,\n",
       "  'min_regparam': 0.5,\n",
       "  'max_regparam': 0.8,\n",
       "  'min_elasticnet': 0.5,\n",
       "  'max_elasticnet': 0.8},\n",
       " 'LogisticRegression': {'model_name': 'LogisticRegression',\n",
       "  'is_selected': False,\n",
       "  'parallelism': 2,\n",
       "  'min_iter': 30,\n",
       "  'max_iter': 50,\n",
       "  'min_regparam': 0.5,\n",
       "  'max_regparam': 0.8,\n",
       "  'min_elasticnet': 0.5,\n",
       "  'max_elasticnet': 0.8},\n",
       " 'RidgeRegression': {'model_name': 'RidgeRegression',\n",
       "  'is_selected': False,\n",
       "  'regularization_term': 'Specify values to test',\n",
       "  'min_iter': 30,\n",
       "  'max_iter': 50,\n",
       "  'min_regparam': 0.5,\n",
       "  'max_regparam': 0.8},\n",
       " 'LassoRegression': {'model_name': 'Lasso Regression',\n",
       "  'is_selected': False,\n",
       "  'regularization_term': 'Specify values to test',\n",
       "  'min_iter': 30,\n",
       "  'max_iter': 50,\n",
       "  'min_regparam': 0.5,\n",
       "  'max_regparam': 0.8},\n",
       " 'ElasticNetRegression': {'model_name': 'Lasso Regression',\n",
       "  'is_selected': False,\n",
       "  'regularization_term': 'Specify values to test',\n",
       "  'min_iter': 30,\n",
       "  'max_iter': 50,\n",
       "  'min_regparam': 0.5,\n",
       "  'max_regparam': 0.8,\n",
       "  'min_elasticnet': 0.5,\n",
       "  'max_elasticnet': 0.8},\n",
       " 'xg_boost': {'model_name': 'XG Boost',\n",
       "  'is_selected': False,\n",
       "  'use_gradient_boosted_tree': True,\n",
       "  'dart': True,\n",
       "  'tree_method': '',\n",
       "  'random_state': 0,\n",
       "  'max_num_of_trees': 0,\n",
       "  'early_stopping': True,\n",
       "  'early_stopping_rounds': 2,\n",
       "  'max_depth_of_tree': [56, 89],\n",
       "  'learningRate': [89, 76],\n",
       "  'l1_regularization': [77],\n",
       "  'l2_regularization': [78],\n",
       "  'gamma': [68],\n",
       "  'min_child_weight': [67],\n",
       "  'sub_sample': [67],\n",
       "  'col_sample_by_tree': [67],\n",
       "  'replace_missing_values': False,\n",
       "  'parallelism': 0},\n",
       " 'DecisionTreeRegressor': {'model_name': 'Decision Tree',\n",
       "  'is_selected': False,\n",
       "  'min_depth': 4,\n",
       "  'max_depth': 7,\n",
       "  'use_gini': False,\n",
       "  'use_entropy': True,\n",
       "  'min_samples_per_leaf': [12, 6],\n",
       "  'use_best': True,\n",
       "  'use_random': True},\n",
       " 'DecisionTreeClassifier': {'model_name': 'Decision Tree',\n",
       "  'is_selected': False,\n",
       "  'min_depth': 4,\n",
       "  'max_depth': 7,\n",
       "  'use_gini': False,\n",
       "  'use_entropy': True,\n",
       "  'min_samples_per_leaf': [12, 6],\n",
       "  'use_best': True,\n",
       "  'use_random': True},\n",
       " 'SVM': {'model_name': 'Support Vector Machine',\n",
       "  'is_selected': False,\n",
       "  'linear_kernel': True,\n",
       "  'rep_kernel': True,\n",
       "  'polynomial_kernel': True,\n",
       "  'sigmoid_kernel': True,\n",
       "  'c_value': [566, 79],\n",
       "  'auto': True,\n",
       "  'scale': True,\n",
       "  'custom_gamma_values': True,\n",
       "  'tolerance': 7,\n",
       "  'max_iterations': 7},\n",
       " 'SGD': {'model_name': 'Stochastic Gradient Descent',\n",
       "  'is_selected': False,\n",
       "  'use_logistics': True,\n",
       "  'use_modified_hubber_loss': False,\n",
       "  'max_iterations': False,\n",
       "  'tolerance': 56,\n",
       "  'use_l1_regularization': 'on',\n",
       "  'use_l2_regularization': 'on',\n",
       "  'use_elastic_net_regularization': True,\n",
       "  'alpha_value': [79, 56],\n",
       "  'parallelism': 1},\n",
       " 'KNN': {'model_name': 'KNN',\n",
       "  'is_selected': False,\n",
       "  'k_value': [78],\n",
       "  'distance_weighting': True,\n",
       "  'neighbour_finding_algorithm': 'Automatic',\n",
       "  'random_state': 0,\n",
       "  'p_value': 0},\n",
       " 'extra_random_trees': {'model_name': 'Extra Random Trees',\n",
       "  'is_selected': False,\n",
       "  'num_of_trees': [45, 489],\n",
       "  'feature_sampling_statergy': 'Square root and Logarithm',\n",
       "  'max_depth': [12, 45],\n",
       "  'min_samples_per_leaf': [78, 56],\n",
       "  'parallelism': 3},\n",
       " 'neural_network': {'model_name': 'Neural Network',\n",
       "  'is_selected': False,\n",
       "  'hidden_layer_sizes': [67, 89],\n",
       "  'activation': '',\n",
       "  'alpha_value': 0,\n",
       "  'max_iterations': 0,\n",
       "  'convergence_tolerance': 0,\n",
       "  'early_stopping': True,\n",
       "  'solver': 'ADAM',\n",
       "  'shuffle_data': True,\n",
       "  'initial_learning_rate': 0,\n",
       "  'automatic_batching': True,\n",
       "  'beta_1': 0,\n",
       "  'beta_2': 0,\n",
       "  'epsilon': 0,\n",
       "  'power_t': 0,\n",
       "  'momentum': 0,\n",
       "  'use_nesterov_momentum': False}}"
      ]
     },
     "execution_count": 7,
     "metadata": {},
     "output_type": "execute_result"
    }
   ],
   "source": [
    "models "
   ]
  },
  {
   "cell_type": "code",
   "execution_count": 9,
   "id": "505ded24",
   "metadata": {},
   "outputs": [],
   "source": [
    "# Load the dataset"
   ]
  },
  {
   "cell_type": "code",
   "execution_count": 8,
   "id": "cbcc1318",
   "metadata": {},
   "outputs": [],
   "source": [
    "iris = pd.read_csv('iris.csv')"
   ]
  },
  {
   "cell_type": "code",
   "execution_count": 9,
   "id": "3af85484",
   "metadata": {},
   "outputs": [
    {
     "data": {
      "text/plain": [
       "sepal_length    0\n",
       "sepal_width     0\n",
       "petal_length    0\n",
       "petal_width     0\n",
       "species         0\n",
       "dtype: int64"
      ]
     },
     "execution_count": 9,
     "metadata": {},
     "output_type": "execute_result"
    }
   ],
   "source": [
    "iris.isnull().sum()"
   ]
  },
  {
   "cell_type": "code",
   "execution_count": 10,
   "id": "dea108fd",
   "metadata": {},
   "outputs": [
    {
     "data": {
      "text/plain": [
       "Iris-setosa        50\n",
       "Iris-versicolor    50\n",
       "Iris-virginica     50\n",
       "Name: species, dtype: int64"
      ]
     },
     "execution_count": 10,
     "metadata": {},
     "output_type": "execute_result"
    }
   ],
   "source": [
    "iris['species'].value_counts()"
   ]
  },
  {
   "cell_type": "code",
   "execution_count": 11,
   "id": "dedfe6b1",
   "metadata": {},
   "outputs": [
    {
     "name": "stdout",
     "output_type": "stream",
     "text": [
      "<class 'pandas.core.frame.DataFrame'>\n",
      "RangeIndex: 150 entries, 0 to 149\n",
      "Data columns (total 5 columns):\n",
      " #   Column        Non-Null Count  Dtype  \n",
      "---  ------        --------------  -----  \n",
      " 0   sepal_length  150 non-null    float64\n",
      " 1   sepal_width   150 non-null    float64\n",
      " 2   petal_length  150 non-null    float64\n",
      " 3   petal_width   150 non-null    float64\n",
      " 4   species       150 non-null    object \n",
      "dtypes: float64(4), object(1)\n",
      "memory usage: 6.0+ KB\n"
     ]
    }
   ],
   "source": [
    "iris.info()"
   ]
  },
  {
   "cell_type": "code",
   "execution_count": null,
   "id": "2e73d78c",
   "metadata": {},
   "outputs": [],
   "source": [
    "# checking out if any values of petal length or sepal width are null"
   ]
  },
  {
   "cell_type": "code",
   "execution_count": 12,
   "id": "00d1d489",
   "metadata": {},
   "outputs": [
    {
     "data": {
      "text/plain": [
       "0"
      ]
     },
     "execution_count": 12,
     "metadata": {},
     "output_type": "execute_result"
    }
   ],
   "source": [
    "(iris['sepal_length'] == 0).sum()"
   ]
  },
  {
   "cell_type": "code",
   "execution_count": 13,
   "id": "e62b73b4",
   "metadata": {},
   "outputs": [
    {
     "data": {
      "text/plain": [
       "0"
      ]
     },
     "execution_count": 13,
     "metadata": {},
     "output_type": "execute_result"
    }
   ],
   "source": [
    "(iris['petal_width'] == 0).sum()"
   ]
  },
  {
   "cell_type": "code",
   "execution_count": 14,
   "id": "7deb797a",
   "metadata": {},
   "outputs": [
    {
     "data": {
      "text/plain": [
       "0"
      ]
     },
     "execution_count": 14,
     "metadata": {},
     "output_type": "execute_result"
    }
   ],
   "source": [
    "(iris['sepal_width'] == 0).sum()"
   ]
  },
  {
   "cell_type": "code",
   "execution_count": 17,
   "id": "0969e4e9",
   "metadata": {},
   "outputs": [],
   "source": [
    "# Training the Model\n",
    "# One Hot Encoding on Dataset"
   ]
  },
  {
   "cell_type": "code",
   "execution_count": 15,
   "id": "ca893a48",
   "metadata": {},
   "outputs": [],
   "source": [
    "iris = pd.get_dummies(iris, columns = ['species'], drop_first = True)"
   ]
  },
  {
   "cell_type": "code",
   "execution_count": 16,
   "id": "87ed9a9d",
   "metadata": {},
   "outputs": [],
   "source": [
    "X = iris.drop(columns = ['petal_width'], axis = 1)\n",
    "Y = iris.petal_width"
   ]
  },
  {
   "cell_type": "code",
   "execution_count": 17,
   "id": "f973cf6d",
   "metadata": {},
   "outputs": [],
   "source": [
    "from sklearn.model_selection import train_test_split\n",
    "X_train, X_test, y_train, y_test = train_test_split(X,Y, test_size = 0.25, random_state = 2)"
   ]
  },
  {
   "cell_type": "code",
   "execution_count": null,
   "id": "160f50dd",
   "metadata": {},
   "outputs": [],
   "source": []
  },
  {
   "cell_type": "code",
   "execution_count": null,
   "id": "94ebb9c7",
   "metadata": {},
   "outputs": [],
   "source": []
  },
  {
   "cell_type": "code",
   "execution_count": 20,
   "id": "67cb7d2b",
   "metadata": {},
   "outputs": [
    {
     "name": "stdout",
     "output_type": "stream",
     "text": [
      "Random Forest Regression Training set Accuracy :  0.9555296424595066\n"
     ]
    }
   ],
   "source": [
    "from sklearn.ensemble import RandomForestRegressor\n",
    "ranfor = RandomForestRegressor(n_estimators = 20 ,max_depth =40, min_samples_leaf = 10)\n",
    "ranfor.fit(X_train, y_train)\n",
    "print('Random Forest Regression Training set Accuracy : ', ranfor.score(X_train, y_train))"
   ]
  },
  {
   "cell_type": "code",
   "execution_count": 21,
   "id": "fb4600a5",
   "metadata": {},
   "outputs": [
    {
     "name": "stdout",
     "output_type": "stream",
     "text": [
      "Mean Squared Error for Random_Forest_Regressor : 0.028663415699880224\n",
      "Root Mean Squared Error for Random_ Forest_Regressor: 0.16930273388188458\n",
      "Mean Absolute Error for Random_Forest_Regressor: 0.12982821673573505\n"
     ]
    }
   ],
   "source": [
    "pred = ranfor.predict(X_test)\n",
    "mse = mean_squared_error(y_test, pred)\n",
    "rmse = mean_squared_error(y_test, pred, squared = False)\n",
    "mae = mean_absolute_error(y_test, pred)\n",
    "print(f\"Mean Squared Error for Random_Forest_Regressor : {mse}\")\n",
    "print(f\"Root Mean Squared Error for Random_ Forest_Regressor: {rmse}\")\n",
    "print(f\"Mean Absolute Error for Random_Forest_Regressor: {mae}\")"
   ]
  },
  {
   "cell_type": "code",
   "execution_count": null,
   "id": "16ea456b",
   "metadata": {},
   "outputs": [],
   "source": []
  },
  {
   "cell_type": "code",
   "execution_count": null,
   "id": "845867f3",
   "metadata": {},
   "outputs": [],
   "source": []
  },
  {
   "cell_type": "code",
   "execution_count": 22,
   "id": "3a6aadba",
   "metadata": {},
   "outputs": [
    {
     "name": "stdout",
     "output_type": "stream",
     "text": [
      "Gradient Boosting Regressor Training Set Accuracy : 0.9999211129448211\n"
     ]
    }
   ],
   "source": [
    "# Using Gradient Boost \n",
    "from sklearn.ensemble import GradientBoostingRegressor\n",
    "gbtr = GradientBoostingRegressor(n_estimators = 89, max_depth=7)\n",
    "gbtr.fit(X_train, y_train)\n",
    "print('Gradient Boosting Regressor Training Set Accuracy :', gbtr.score(X_train, y_train))"
   ]
  },
  {
   "cell_type": "code",
   "execution_count": 23,
   "id": "3bc6dfe1",
   "metadata": {},
   "outputs": [
    {
     "name": "stdout",
     "output_type": "stream",
     "text": [
      "Mean Squared Error for Gradient_Boosting_Regressor : 0.05161986462356195\n",
      "Root Mean Squared Error for Gradient_Boosting_Regressor: 0.22720005418917036\n",
      "Mean Absolute Error for Gradient_Boosting_Regressor: 0.16139841544468794\n"
     ]
    }
   ],
   "source": [
    "pred = gbtr.predict(X_test)\n",
    "mse = mean_squared_error(y_test, pred)\n",
    "rmse = mean_squared_error(y_test, pred, squared = False)\n",
    "mae = mean_absolute_error(y_test, pred)\n",
    "print(f\"Mean Squared Error for Gradient_Boosting_Regressor : {mse}\")\n",
    "print(f\"Root Mean Squared Error for Gradient_Boosting_Regressor: {rmse}\")\n",
    "print(f\"Mean Absolute Error for Gradient_Boosting_Regressor: {mae}\")"
   ]
  },
  {
   "cell_type": "code",
   "execution_count": 22,
   "id": "56570dc7",
   "metadata": {},
   "outputs": [
    {
     "name": "stdout",
     "output_type": "stream",
     "text": [
      "Ridge Regression training Accuracy: 0.9481347763745945\n"
     ]
    }
   ],
   "source": [
    "# Using Ridge Regression\n",
    "from sklearn.linear_model import Ridge\n",
    "rdr = Ridge(max_iter = 50)\n",
    "rdr.fit(X_train, y_train)\n",
    "print('Ridge Regression training Accuracy:', rdr.score(X_train, y_train))"
   ]
  },
  {
   "cell_type": "code",
   "execution_count": 23,
   "id": "89febdbb",
   "metadata": {},
   "outputs": [
    {
     "name": "stdout",
     "output_type": "stream",
     "text": [
      "Mean Squared Error for Ridge_Regressor : 0.028977679660194447\n",
      "Root Mean Squared Error for Ridge_Regressor: 0.17022831627022117\n",
      "Mean Absolute Error for Ridge_Regressor: 0.12603910246238026\n"
     ]
    }
   ],
   "source": [
    "pred = rdr.predict(X_test)\n",
    "mse = mean_squared_error(y_test, pred)\n",
    "rmse = mean_squared_error(y_test, pred, squared = False)\n",
    "mae = mean_absolute_error(y_test, pred)\n",
    "print(f\"Mean Squared Error for Ridge_Regressor : {mse}\")\n",
    "print(f\"Root Mean Squared Error for Ridge_Regressor: {rmse}\")\n",
    "print(f\"Mean Absolute Error for Ridge_Regressor: {mae}\")"
   ]
  },
  {
   "cell_type": "code",
   "execution_count": 24,
   "id": "fa8bddfd",
   "metadata": {},
   "outputs": [
    {
     "name": "stdout",
     "output_type": "stream",
     "text": [
      "Lasso Regression Training Accuracy: 0.3347690867815504\n"
     ]
    }
   ],
   "source": [
    "# Using Lasso Regression\n",
    "from sklearn.linear_model import Lasso\n",
    "lsr = Lasso(max_iter = 50)\n",
    "lsr.fit(X_train, y_train)\n",
    "print('Lasso Regression Training Accuracy:', lsr.score(X_train, y_train))"
   ]
  },
  {
   "cell_type": "code",
   "execution_count": 25,
   "id": "0c87ed16",
   "metadata": {},
   "outputs": [
    {
     "name": "stdout",
     "output_type": "stream",
     "text": [
      "Mean Squared Error for Lasso_Regressor : 0.40209874248376387\n",
      "Root Mean Squared Error for Lasso_Regressor: 0.6341125629442803\n",
      "Mean Absolute Error for Lasso_Regressor: 0.5489472957115965\n"
     ]
    }
   ],
   "source": [
    "pred = lsr.predict(X_test)\n",
    "mse = mean_squared_error(y_test, pred)\n",
    "rmse = mean_squared_error(y_test, pred, squared = False)\n",
    "mae = mean_absolute_error(y_test, pred)\n",
    "print(f\"Mean Squared Error for Lasso_Regressor : {mse}\")\n",
    "print(f\"Root Mean Squared Error for Lasso_Regressor: {rmse}\")\n",
    "print(f\"Mean Absolute Error for Lasso_Regressor: {mae}\")"
   ]
  },
  {
   "cell_type": "code",
   "execution_count": 26,
   "id": "03f09466",
   "metadata": {},
   "outputs": [
    {
     "name": "stdout",
     "output_type": "stream",
     "text": [
      "Elastic Net Regression Training Accuracy: 0.7049468277182213\n"
     ]
    }
   ],
   "source": [
    "# Using Elastic Net Regression\n",
    "from sklearn.linear_model import ElasticNet \n",
    "enr = ElasticNet(max_iter = 50)\n",
    "enr.fit(X_train, y_train)\n",
    "print('Elastic Net Regression Training Accuracy:', enr.score(X_train, y_train))"
   ]
  },
  {
   "cell_type": "code",
   "execution_count": 27,
   "id": "7528e957",
   "metadata": {},
   "outputs": [
    {
     "name": "stdout",
     "output_type": "stream",
     "text": [
      "Mean Squared Error for ElasticNet_Regressor : 0.16845726715576168\n",
      "Root Mean Squared Error for ElasticNet_Regressor: 0.4104354604024385\n",
      "Mean Absolute Error for ELasticNet_Regressor: 0.34328015138135004\n"
     ]
    }
   ],
   "source": [
    "pred = enr.predict(X_test)\n",
    "mse = mean_squared_error(y_test, pred)\n",
    "rmse = mean_squared_error(y_test, pred, squared = False)\n",
    "mae = mean_absolute_error(y_test, pred)\n",
    "print(f\"Mean Squared Error for ElasticNet_Regressor : {mse}\")\n",
    "print(f\"Root Mean Squared Error for ElasticNet_Regressor: {rmse}\")\n",
    "print(f\"Mean Absolute Error for ELasticNet_Regressor: {mae}\")\n"
   ]
  },
  {
   "cell_type": "code",
   "execution_count": 28,
   "id": "2cc3d526",
   "metadata": {},
   "outputs": [
    {
     "name": "stdout",
     "output_type": "stream",
     "text": [
      "XGBoost Regression Training Accuracy: 0.9999047540693478\n"
     ]
    }
   ],
   "source": [
    "# Using XGBoost Regression\n",
    "import xgboost as xg\n",
    "xgb = xg.XGBRegressor()\n",
    "xgb.fit(X_train, y_train)\n",
    "print('XGBoost Regression Training Accuracy:', xgb.score(X_train, y_train))"
   ]
  },
  {
   "cell_type": "code",
   "execution_count": 29,
   "id": "f19ae5f4",
   "metadata": {},
   "outputs": [
    {
     "name": "stdout",
     "output_type": "stream",
     "text": [
      "Mean Squared Error for Xgboost_Regression :- 0.049315047100074005\n",
      "Root Mean Squared Error Xgboost_Regression :- 0.22206991489185113\n",
      "Mean Absolute Error for Xgboost_Regression :-0.16168331703857372\n"
     ]
    }
   ],
   "source": [
    "pred = xgb.predict(X_test)\n",
    "mse = mean_squared_error(y_test,pred)\n",
    "rmse = mean_squared_error(y_test,pred,squared=False)\n",
    "mae = mean_absolute_error(y_test,pred)\n",
    "print(f\"Mean Squared Error for Xgboost_Regression :- {mse}\")\n",
    "print(f\"Root Mean Squared Error Xgboost_Regression :- {rmse}\")\n",
    "print(f\"Mean Absolute Error for Xgboost_Regression :-{mae}\")"
   ]
  },
  {
   "cell_type": "code",
   "execution_count": 31,
   "id": "6022b07f",
   "metadata": {},
   "outputs": [
    {
     "name": "stdout",
     "output_type": "stream",
     "text": [
      "Decision Tree Regression Training Accuracy: 0.9491586412992195\n"
     ]
    }
   ],
   "source": [
    "# Using Decision Tree \n",
    "from sklearn.tree import DecisionTreeRegressor\n",
    "tree = DecisionTreeRegressor(min_samples_leaf = 12)\n",
    "tree.fit(X_train, y_train)\n",
    "print('Decision Tree Regression Training Accuracy:', tree.score(X_train, y_train))"
   ]
  },
  {
   "cell_type": "code",
   "execution_count": 32,
   "id": "bc11faad",
   "metadata": {},
   "outputs": [
    {
     "name": "stdout",
     "output_type": "stream",
     "text": [
      "Mean Squared Error for DecisionTree_Regression :- 0.03445087883001875\n",
      "Root Mean Squared Error DecisionTree_Regression :- 0.18560947936465624\n",
      "Mean Absolute Error for DecisionTree_Regression :-0.13697315648747538\n"
     ]
    }
   ],
   "source": [
    "pred = tree.predict(X_test)\n",
    "mse =mean_squared_error(y_test,pred)\n",
    "rmse = mean_squared_error(y_test,pred,squared=False)\n",
    "mae = mean_absolute_error(y_test,pred)\n",
    "print(f\"Mean Squared Error for DecisionTree_Regression :- {mse}\")\n",
    "print(f\"Root Mean Squared Error DecisionTree_Regression :- {rmse}\")\n",
    "print(f\"Mean Absolute Error for DecisionTree_Regression :-{mae}\")"
   ]
  },
  {
   "cell_type": "code",
   "execution_count": 30,
   "id": "b62eb908",
   "metadata": {},
   "outputs": [
    {
     "name": "stdout",
     "output_type": "stream",
     "text": [
      "SVM Regression Training Accuracy: 0.8548465776588885\n"
     ]
    },
    {
     "name": "stderr",
     "output_type": "stream",
     "text": [
      "c:\\users\\dell\\appdata\\local\\programs\\python\\python39\\lib\\site-packages\\sklearn\\svm\\_base.py:301: ConvergenceWarning: Solver terminated early (max_iter=7).  Consider pre-processing your data with StandardScaler or MinMaxScaler.\n",
      "  warnings.warn(\n"
     ]
    }
   ],
   "source": [
    "# using SVM Regression\n",
    "from sklearn.svm import SVR \n",
    "svr = SVR(kernel ='rbf', gamma = 7, max_iter=7)\n",
    "svr.fit(X_train, y_train)\n",
    "print('SVM Regression Training Accuracy:', svr.score(X_train, y_train))"
   ]
  },
  {
   "cell_type": "code",
   "execution_count": 31,
   "id": "0df2947d",
   "metadata": {},
   "outputs": [
    {
     "name": "stdout",
     "output_type": "stream",
     "text": [
      "Mean Squared Error for SVR_Regression :- 0.1729406507953265\n",
      "Root Mean Squared Error SVR_Regression :- 0.4158613360187822\n",
      "Mean Absolute Error for SVR_Regression :-0.31810623277315275\n"
     ]
    }
   ],
   "source": [
    "pred = svr.predict(X_test)\n",
    "mse =mean_squared_error(y_test,pred)\n",
    "rmse = mean_squared_error(y_test,pred,squared=False)\n",
    "mae = mean_absolute_error(y_test,pred)\n",
    "print(f\"Mean Squared Error for SVR_Regression :- {mse}\")\n",
    "print(f\"Root Mean Squared Error SVR_Regression :- {rmse}\")\n",
    "print(f\"Mean Absolute Error for SVR_Regression :-{mae}\")\n"
   ]
  },
  {
   "cell_type": "code",
   "execution_count": 32,
   "id": "2165d2fb",
   "metadata": {},
   "outputs": [
    {
     "name": "stdout",
     "output_type": "stream",
     "text": [
      "0.95122985883765\n"
     ]
    }
   ],
   "source": [
    "#Using Linear Regression\n",
    "from sklearn.linear_model import LinearRegression\n",
    "lregr = LinearRegression()\n",
    "  \n",
    "lregr.fit(X_train, y_train)\n",
    "print(lregr.score(X_test, y_test))\n"
   ]
  },
  {
   "cell_type": "code",
   "execution_count": 33,
   "id": "9bc48405",
   "metadata": {},
   "outputs": [
    {
     "name": "stdout",
     "output_type": "stream",
     "text": [
      "Mean Squared Error for Linear_Regression :-  0.029069233238935586\n",
      "Root Mean Squared Error Linear_Regression :- 0.1704970182699263\n",
      "Mean Absolute Error for Linear_Regression :- 0.1263536659671673\n"
     ]
    }
   ],
   "source": [
    "pred = lregr.predict(X_test)\n",
    "mse = mean_squared_error(y_test,pred)\n",
    "rmse = mean_squared_error(y_test,pred,squared=False)\n",
    "mae = mean_absolute_error(y_test,pred)\n",
    "print(f\"Mean Squared Error for Linear_Regression :-  {mse}\")\n",
    "print(f\"Root Mean Squared Error Linear_Regression :- {rmse}\")\n",
    "print(f\"Mean Absolute Error for Linear_Regression :- {mae}\")"
   ]
  },
  {
   "cell_type": "code",
   "execution_count": null,
   "id": "2c880bbd",
   "metadata": {},
   "outputs": [],
   "source": []
  }
 ],
 "metadata": {
  "kernelspec": {
   "display_name": "Python 3 (ipykernel)",
   "language": "python",
   "name": "python3"
  },
  "language_info": {
   "codemirror_mode": {
    "name": "ipython",
    "version": 3
   },
   "file_extension": ".py",
   "mimetype": "text/x-python",
   "name": "python",
   "nbconvert_exporter": "python",
   "pygments_lexer": "ipython3",
   "version": "3.9.2"
  }
 },
 "nbformat": 4,
 "nbformat_minor": 5
}
